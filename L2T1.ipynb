{
 "cells": [
  {
   "cell_type": "markdown",
   "id": "a45ad6a0",
   "metadata": {},
   "source": [
    "# Load Dataset & Basic Info"
   ]
  },
  {
   "cell_type": "code",
   "execution_count": 1,
   "id": "1889e858",
   "metadata": {},
   "outputs": [
    {
     "name": "stdout",
     "output_type": "stream",
     "text": [
      "\n",
      "Dataset Loaded: 9551 rows, 21 columns\n",
      "\n",
      "Column Names:\n",
      " ['Restaurant ID', 'Restaurant Name', 'Country Code', 'City', 'Address', 'Locality', 'Locality Verbose', 'Longitude', 'Latitude', 'Cuisines', 'Average Cost for two', 'Currency', 'Has Table booking', 'Has Online delivery', 'Is delivering now', 'Switch to order menu', 'Price range', 'Aggregate rating', 'Rating color', 'Rating text', 'Votes']\n"
     ]
    }
   ],
   "source": [
    "import pandas as pd\n",
    "import numpy as np\n",
    "import seaborn as sns\n",
    "import matplotlib.pyplot as plt\n",
    "\n",
    "# Load the Dataset (change the file name if needed)\n",
    "df = pd.read_csv('Dataset.csv')\n",
    "\n",
    "# Basic Information\n",
    "print(\"\\nDataset Loaded: {} rows, {} columns\".format(df.shape[0], df.shape[1]))\n",
    "print(\"\\nColumn Names:\\n\", df.columns.tolist())\n"
   ]
  },
  {
   "cell_type": "markdown",
   "id": "e0b54811",
   "metadata": {},
   "source": [
    "# Table Booking & Online Delivery Percentages"
   ]
  },
  {
   "cell_type": "code",
   "execution_count": 2,
   "id": "ace6934f",
   "metadata": {},
   "outputs": [
    {
     "name": "stdout",
     "output_type": "stream",
     "text": [
      "\n",
      "Table Booking Availability (%):\n",
      " Has Table booking\n",
      "No     87.875615\n",
      "Yes    12.124385\n",
      "Name: proportion, dtype: float64\n",
      "\n",
      "Online Delivery Availability (%):\n",
      " Has Online delivery\n",
      "No     74.337766\n",
      "Yes    25.662234\n",
      "Name: proportion, dtype: float64\n"
     ]
    }
   ],
   "source": [
    "# Table Booking Percentage\n",
    "if 'Has Table booking' in df.columns:\n",
    "    table_booking_counts = df['Has Table booking'].value_counts(normalize=True) * 100\n",
    "    print(\"\\nTable Booking Availability (%):\\n\", table_booking_counts)\n",
    "else:\n",
    "    print(\"\\n'Has Table booking' column not found.\")\n",
    "\n",
    "# Online Delivery Percentage\n",
    "if 'Has Online delivery' in df.columns:\n",
    "    online_delivery_counts = df['Has Online delivery'].value_counts(normalize=True) * 100\n",
    "    print(\"\\nOnline Delivery Availability (%):\\n\", online_delivery_counts)\n",
    "else:\n",
    "    print(\"\\n'Has Online delivery' column not found.\")\n"
   ]
  },
  {
   "cell_type": "markdown",
   "id": "1fbcdbd5",
   "metadata": {},
   "source": [
    "# Average Ratings - Table Booking vs. No Table Booking\n",
    "\n"
   ]
  },
  {
   "cell_type": "code",
   "execution_count": 3,
   "id": "32259f1c",
   "metadata": {},
   "outputs": [
    {
     "name": "stdout",
     "output_type": "stream",
     "text": [
      "\n",
      "Average Ratings (with and without Table Booking):\n",
      " Has Table booking\n",
      "No     2.56\n",
      "Yes    3.44\n",
      "Name: Aggregate rating, dtype: float64\n"
     ]
    }
   ],
   "source": [
    "# Average Ratings for Table Booking vs. No Table Booking\n",
    "if 'Has Table booking' in df.columns and 'Aggregate rating' in df.columns:\n",
    "    avg_rating_table_booking = df.groupby('Has Table booking')['Aggregate rating'].mean().round(2)\n",
    "    print(\"\\nAverage Ratings (with and without Table Booking):\\n\", avg_rating_table_booking)\n",
    "else:\n",
    "    print(\"\\nColumns for Table Booking Rating Analysis missing.\")\n"
   ]
  },
  {
   "cell_type": "markdown",
   "id": "e0869847",
   "metadata": {},
   "source": [
    "# Online Delivery Availability by Price Range\n",
    "\n"
   ]
  },
  {
   "cell_type": "code",
   "execution_count": 4,
   "id": "cce241b9",
   "metadata": {},
   "outputs": [
    {
     "name": "stdout",
     "output_type": "stream",
     "text": [
      "\n",
      "Online Delivery by Price Range (%):\n",
      " Has Online delivery         No        Yes\n",
      "Price range                              \n",
      "1                    84.225923  15.774077\n",
      "2                    58.689367  41.310633\n",
      "3                    70.809659  29.190341\n",
      "4                    90.955631   9.044369\n"
     ]
    }
   ],
   "source": [
    "# Online Delivery % by Price Range\n",
    "if 'Has Online delivery' in df.columns and 'Price range' in df.columns:\n",
    "    delivery_by_price = df.groupby('Price range')['Has Online delivery'].value_counts(normalize=True).unstack().fillna(0) * 100\n",
    "    print(\"\\nOnline Delivery by Price Range (%):\\n\", delivery_by_price)\n",
    "else:\n",
    "    print(\"\\nColumns for Online Delivery by Price Range missing.\")\n"
   ]
  },
  {
   "cell_type": "markdown",
   "id": "7c7540ab",
   "metadata": {},
   "source": [
    "# Visualization - Online Delivery by Price Range"
   ]
  },
  {
   "cell_type": "code",
   "execution_count": 5,
   "id": "1a7aa2fc",
   "metadata": {},
   "outputs": [
    {
     "data": {
      "image/png": "[encoded data removed]",
      "text/plain": [
       "<Figure size 1000x600 with 1 Axes>"
      ]
     },
     "metadata": {},
     "output_type": "display_data"
    }
   ],
   "source": [
    "# Bar Chart for Online Delivery vs. Price Range\n",
    "plt.figure(figsize=(10,6))\n",
    "if 'Has Online delivery' in df.columns and 'Price range' in df.columns:\n",
    "    sns.countplot(data=df, x='Price range', hue='Has Online delivery', palette='viridis')\n",
    "    plt.title('Online Delivery Availability by Price Range')\n",
    "    plt.xlabel('Price Range')\n",
    "    plt.ylabel('Number of Restaurants')\n",
    "    plt.legend(title='Has Online Delivery')\n",
    "    plt.show()\n",
    "else:\n",
    "    print(\"\\nVisualization columns not found.\")\n"
   ]
  },
  {
   "cell_type": "markdown",
   "id": "ffc2db75",
   "metadata": {},
   "source": [
    "# Correlation Check"
   ]
  },
  {
   "cell_type": "code",
   "execution_count": 6,
   "id": "21575bf0",
   "metadata": {},
   "outputs": [
    {
     "name": "stdout",
     "output_type": "stream",
     "text": [
      "\n",
      "Correlation between Rating and Price Range:\n",
      "                   Aggregate rating  Price range\n",
      "Aggregate rating          1.000000     0.437944\n",
      "Price range               0.437944     1.000000\n"
     ]
    }
   ],
   "source": [
    "# Correlation between Rating and Price Range\n",
    "if {'Aggregate rating', 'Price range'}.issubset(df.columns):\n",
    "    corr = df[['Aggregate rating', 'Price range']].corr()\n",
    "    print(\"\\nCorrelation between Rating and Price Range:\\n\", corr)\n",
    "else:\n",
    "    print(\"\\nCorrelation columns not found.\")\n"
   ]
  },
  {
   "cell_type": "markdown",
   "id": "d41e6947",
   "metadata": {},
   "source": [
    "# Missing Data Overview"
   ]
  },
  {
   "cell_type": "code",
   "execution_count": 7,
   "id": "804e8b86",
   "metadata": {},
   "outputs": [
    {
     "name": "stdout",
     "output_type": "stream",
     "text": [
      "\n",
      "Missing Data Summary:\n",
      " Restaurant ID           0\n",
      "Restaurant Name         0\n",
      "Country Code            0\n",
      "City                    0\n",
      "Address                 0\n",
      "Locality                0\n",
      "Locality Verbose        0\n",
      "Longitude               0\n",
      "Latitude                0\n",
      "Cuisines                9\n",
      "Average Cost for two    0\n",
      "Currency                0\n",
      "Has Table booking       0\n",
      "Has Online delivery     0\n",
      "Is delivering now       0\n",
      "Switch to order menu    0\n",
      "Price range             0\n",
      "Aggregate rating        0\n",
      "Rating color            0\n",
      "Rating text             0\n",
      "Votes                   0\n",
      "dtype: int64\n"
     ]
    }
   ],
   "source": [
    "# Check for Missing Data\n",
    "print(\"\\nMissing Data Summary:\\n\", df.isnull().sum())\n"
   ]
  }
 ],
 "metadata": {
  "kernelspec": {
   "display_name": "Python 3",
   "language": "python",
   "name": "python3"
  },
  "language_info": {
   "codemirror_mode": {
    "name": "ipython",
    "version": 3
   },
   "file_extension": ".py",
   "mimetype": "text/x-python",
   "name": "python",
   "nbconvert_exporter": "python",
   "pygments_lexer": "ipython3",
   "version": "3.10.11"
  }
 },
 "nbformat": 4,
 "nbformat_minor": 5
}
